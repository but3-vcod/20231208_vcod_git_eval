{
 "cells": [
  {
   "cell_type": "code",
   "execution_count": 41,
   "id": "fedc9db0-628c-43ab-b33f-43c0d19bf9e8",
   "metadata": {},
   "outputs": [],
   "source": [
    "from pandas_ods_reader import read_ods\n",
    "import glob\n",
    "import os\n",
    "\n",
    "\n",
    "def show_note(file_path):\n",
    "\n",
    "    df = read_ods(file_path)\n",
    "\n",
    "    name = file_path.split('bareme_')[1]\n",
    "    name = name.split('.')[0]\n",
    "    return(f\"{name:<15} ; {df['unnamed.4'][46]:3.3}\")\n",
    "\n",
    "\n",
    "ods_dir = \"..\"\n",
    "\n",
    "all_baremes = glob.glob(os.path.join(ods_dir, \"bareme_*.ods\"))\n",
    "\n",
    "for file in all_baremes:\n",
    "    this_note = show_note(file)\n",
    "    with open(os.path.join(ods_dir, \"all_notes.csv\"), \"a\") as an_fd:\n",
    "        an_fd.write(this_note)\n",
    "        an_fd.write(\"\\n\")\n",
    "    "
   ]
  }
 ],
 "metadata": {
  "kernelspec": {
   "display_name": "Python 3 (ipykernel)",
   "language": "python",
   "name": "python3"
  },
  "language_info": {
   "codemirror_mode": {
    "name": "ipython",
    "version": 3
   },
   "file_extension": ".py",
   "mimetype": "text/x-python",
   "name": "python",
   "nbconvert_exporter": "python",
   "pygments_lexer": "ipython3",
   "version": "3.11.6"
  }
 },
 "nbformat": 4,
 "nbformat_minor": 5
}
